{
 "cells": [
  {
   "cell_type": "code",
   "execution_count": 5,
   "metadata": {},
   "outputs": [
    {
     "data": {
      "image/png": "[encoded data removed]",
      "text/plain": [
       "<Figure size 800x500 with 1 Axes>"
      ]
     },
     "metadata": {},
     "output_type": "display_data"
    },
    {
     "name": "stdout",
     "output_type": "stream",
     "text": [
      "12.3 19.504065040650406 1.5856963447683257\n"
     ]
    }
   ],
   "source": [
    "import numpy as np\n",
    "import matplotlib.pyplot as plt\n",
    "from scipy.stats import gamma\n",
    "\n",
    "def generate_polymer_population(Mn, PDI, N):\n",
    "    Z = (1 / (PDI - 1)) ** 2\n",
    "    scale = Mn / Z\n",
    "    chain_lengths = gamma.rvs(a=Z, scale=scale, size=N)\n",
    "    chain_lengths = np.round(chain_lengths).astype(int)\n",
    "    \n",
    "    # Clip values to stay within 1 to 30 monomer units\n",
    "    chain_lengths = np.clip(chain_lengths, 4, 30)\n",
    "    \n",
    "    return chain_lengths\n",
    "\n",
    "def plot_distribution(chain_lengths):\n",
    "    plt.figure(figsize=(8, 5))\n",
    "    plt.hist(chain_lengths, bins=np.arange(0.5, 31.5, 1), density=False, \n",
    "             color='cornflowerblue', edgecolor='black')\n",
    "    plt.xlabel('Number of Monomer Units per Polymer')\n",
    "    plt.ylabel('Probability Density')\n",
    "    plt.title('Polymer Chain Length Distribution')\n",
    "    plt.grid(True)\n",
    "\n",
    "    # Set x-ticks from 1 to 30 in steps of 5\n",
    "    plt.xticks(np.arange(3, 31, 5))\n",
    "\n",
    "    plt.tight_layout()\n",
    "    plt.show()\n",
    "\n",
    "\n",
    "Mn = 10      \n",
    "PDI = 2.5\n",
    "N = 10\n",
    "\n",
    "chain_lengths = generate_polymer_population(Mn, PDI, N)\n",
    "plot_distribution(chain_lengths)\n",
    "\n",
    "chain_len = np.array(chain_lengths)\n",
    "\n",
    "Mn = np.mean(chain_len)\n",
    "Mw = np.sum(chain_len**2) / np.sum(chain_len)\n",
    "PDI = Mw / Mn\n",
    "\n",
    "print(Mn, Mw, PDI)\n",
    "# Calculate the number of chains of each length\n",
    "value_counts_dict = dict(zip(*np.unique(chain_lengths, return_counts=True)))\n",
    "\n"
   ]
  },
  {
   "cell_type": "code",
   "execution_count": 6,
   "metadata": {},
   "outputs": [],
   "source": [
    "generated_arrays = {}\n",
    "\n",
    "# Loop through each chain length (key)\n",
    "for n in value_counts_dict.keys():\n",
    "    arrays = []\n",
    "    for _ in range(value_counts_dict[n]):\n",
    "        arr = np.ones(n, dtype=int)\n",
    "        if n > 7:\n",
    "            idx = np.random.randint(0, n)\n",
    "            arr[idx] = 0\n",
    "        if n > 11:\n",
    "            idx = np.random.randint(0, n-1)\n",
    "            arr[idx] = 0\n",
    " \n",
    "        arrays.append(arr)\n",
    "    generated_arrays[n] = arrays"
   ]
  },
  {
   "cell_type": "code",
   "execution_count": 18,
   "metadata": {},
   "outputs": [
    {
     "name": "stdout",
     "output_type": "stream",
     "text": [
      "Array: [1 1 1 1]\n",
      "Occurrences: 4\n",
      "Array: [1 1 1 1 1 1 1]\n",
      "Occurrences: 1\n",
      "Array: [1 1 1 1 0 1 1 1 1 1]\n",
      "Occurrences: 1\n",
      "Array: [1 1 1 1 1 1 1 1 1 0 1 1 1 1]\n",
      "Occurrences: 1\n",
      "Array: [1 1 1 0 1 1 1 1 1 1 0 1 1 1 1 1 1 1 1]\n",
      "Occurrences: 1\n",
      "Array: [1 1 1 1 1 1 1 1 0 1 1 1 1 1 1 1 1 1 1 1 1 1 1 0 1 1 1]\n",
      "Occurrences: 1\n",
      "Array: [1 1 1 1 1 0 1 1 1 1 1 1 1 1 1 0 1 1 1 1 1 1 1 1 1 1 1 1 1 1]\n",
      "Occurrences: 1\n",
      "[4, 1, 1, 1, 1, 1, 1]\n"
     ]
    }
   ],
   "source": [
    "#generate chain distributions and topol files\n",
    "\n",
    "import os\n",
    "output_dir=\"Chains_output\"\n",
    "os.makedirs(output_dir, exist_ok=True)\n",
    "x=0 #set a small counter to tag chains with 3 letter code\n",
    "import generate_itp\n",
    "itplist = []\n",
    "countlist = []  \n",
    "for length, arr_list in generated_arrays.items():\n",
    "    n = np.array([])\n",
    "    count = 0\n",
    "    for arr in arr_list:\n",
    "        if np.array_equal(arr, n):\n",
    "            count += 1\n",
    "        else:\n",
    "            \n",
    "            # Print the count for the previous array before resetting\n",
    "            if count > 0:\n",
    "                x=x+1\n",
    "                code = chr(64 + x)*3\n",
    "                print(\"Array:\", n)\n",
    "                print(\"Occurrences:\", count)\n",
    "                id = \"\".join(map(str, n)).replace(\"[\", \"\").replace(\"]\", \"\").replace(\"'\", \"\").replace(\",\", \"\").replace(\" \", \"\")\n",
    "                itpfilename = os.path.join(output_dir, f\"PEG{length}mer_{id}.itp\")\n",
    "                itplist.append(os.path.join(f\"PEG{length}mer_{id}.itp\"))\n",
    "                grofilename = os.path.join(output_dir, f\"PEG{length}mer_{id}.gro\")\n",
    "\n",
    "                #generate_itp.generate_itps(itpfilename, grofilename, n, code)\n",
    "                \n",
    "\n",
    "            count = 1  # Reset count for the new array\n",
    "        n = arr\n",
    "    # Print the last array and its count after the loop\n",
    "    if count > 0:\n",
    "        x = x+1\n",
    "        code = chr(64 + x)*3\n",
    "        countlist.append(count)  \n",
    "        print(\"Array:\", n)\n",
    "        print(\"Occurrences:\", count)\n",
    "        id = \"\".join(map(str, n)).replace(\"[\", \"\").replace(\"]\", \"\").replace(\"'\", \"\").replace(\",\", \"\").replace(\" \", \"\")\n",
    "        itpfilename = os.path.join(output_dir, f\"PEG{length}mer_{id}.itp\")\n",
    "        itplist.append(os.path.join(f\"PEG{length}mer_{id}.itp\"))\n",
    "        grofilename = os.path.join(output_dir, f\"PEG{length}mer_{id}.gro\")\n",
    "\n",
    "        #generate_itp.generate_itps(itpfilename,grofilename, n, code)\n",
    "print(countlist)"
   ]
  },
  {
   "cell_type": "code",
   "execution_count": null,
   "metadata": {},
   "outputs": [],
   "source": []
  },
  {
   "cell_type": "code",
   "execution_count": null,
   "metadata": {},
   "outputs": [
    {
     "data": {
      "text/plain": [
       "['PEG4mer_1111.gro',\n",
       " 'PEG7mer_1111111.gro',\n",
       " 'PEG10mer_1111011111.gro',\n",
       " 'PEG14mer_11111111101111.gro',\n",
       " 'PEG19mer_1110111111011111111.gro',\n",
       " 'PEG27mer_111111110111111111111110111.gro',\n",
       " 'PEG30mer_111110111111111011111111111111.gro']"
      ]
     },
     "execution_count": 12,
     "metadata": {},
     "output_type": "execute_result"
    }
   ],
   "source": [
    "\n",
    "topolfile = os.path.join(output_dir, \"topol.top\")\n",
    "with open (topolfile, 'w+') as file:\n",
    "    #Title line \n",
    "    print(';Polymer topology | developed by ChamikaraK University of Arizona | \\n;Explicit Hirshfield charge populations (CM5) and torsional potentials @DFT Optially tuned (0.1533 bohr-1) HPBE 6-31G** \\n', file=file)\n",
    "    print('#include        \"ffnb.itp\"\\n', file=file)\n",
    "    print('#include        \"forcefield.itp\"\\n', file=file)\n",
    "    print('[ system ]\\nPEG\\n[ molecules ]', file=file)\n",
    "    for n, itpfile in enumerate(itplist, start=1):\n",
    "        if n <= len(countlist):  # Ensure we don't access out-of-range indices\n",
    "            print(f'{chr(64 + n)*3}      {countlist[n-1]} ', file=file)\n",
    "        else:\n",
    "            print(f'{chr(64 + n)*3}      1 ', file=file)  # Default count to 1 if missing\n",
    "        \n",
    "        \n",
    "\n",
    "fffile = os.path.join(output_dir, \"forcefield.itp\")\n",
    "with open (fffile, 'w+') as file:\n",
    "    print('[ defaults ]\\n; nbfunc        comb-rule       gen-pairs       fudgeLJ fudgeQQ\\n  1             3               yes             0.5     0.8333\\n', file=file)\n",
    "    for itpfile in itplist:\n",
    "        n = itplist.index(itpfile) + 1\n",
    "    for itpfile in itplist:\n",
    "        print('#include        \"{}\"'.format(itpfile), file=file)"
   ]
  },
  {
   "cell_type": "code",
   "execution_count": null,
   "metadata": {},
   "outputs": [],
   "source": [
    "#create separations \n",
    "grolist = [itp.replace(\"itp\", \"gro\") for itp in itplist]\n",
    "gro_count_dict = dict(zip(grolist, countlist))\n",
    "gro_count_dict\n",
    "\n",
    "\n"
   ]
  },
  {
   "cell_type": "code",
   "execution_count": null,
   "metadata": {},
   "outputs": [],
   "source": [
    "# File paths\n",
    "input_file = 'Chains_output/PEG4mer_1111.gro'\n",
    "output_file = 'Chains_output/PEG4mer_1111_modified.gro'\n",
    "\n",
    "def genstacks(input_file, output_file, increment):\n",
    "    # Value to add\n",
    "\n",
    "\n",
    "    # Read original lines\n",
    "    with open(input_file, 'r') as f:\n",
    "        lines = f.readlines()\n",
    "\n",
    "    # Modify the appropriate lines\n",
    "    updated_lines = []\n",
    "    for i, line in enumerate(lines):\n",
    "        if i < 2 or i == len(lines) - 1:\n",
    "            updated_lines.append(line)\n",
    "            continue\n",
    "\n",
    "        # For GRO files, the coordinates typically start at fixed positions\n",
    "        # Example fixed width: columns at positions 20–28, 28–36, 36–44 for x, y, z\n",
    "        # Here we modify z-coordinate (assumed to be from 36–44)\n",
    "        try:\n",
    "            y_str = line[28:36]\n",
    "            y_val = float(y_str)\n",
    "            new_y = f\"{y_val + increment:8.3f}\"\n",
    "            new_line = line[:36] + new_y + line[44:]\n",
    "        except ValueError:\n",
    "            new_line = line  # leave it untouched if parsing fails\n",
    "\n",
    "        updated_lines.append(new_line)\n",
    "\n",
    "    # Write to new file\n",
    "    with open(output_file, 'w') as f:\n",
    "        f.writelines(updated_lines)\n"
   ]
  },
  {
   "cell_type": "code",
   "execution_count": 34,
   "metadata": {},
   "outputs": [],
   "source": [
    "def print_iterative_items(gro_count_dict):\n",
    "    counter = 0\n",
    "    increment = 0.38424\n",
    "    for key, n in gro_count_dict.items():\n",
    "        print(f\"{key}:\")\n",
    "        for _ in range(n):\n",
    "            print(counter)\n",
    "            counter += 1\n",
    "            inc = increment*counter\n",
    "            genstacks(f\"Chains_output/{key}\", f\"Chains_output/stack{counter}{key}\", inc)\n",
    "        "
   ]
  },
  {
   "cell_type": "code",
   "execution_count": 35,
   "metadata": {},
   "outputs": [
    {
     "name": "stdout",
     "output_type": "stream",
     "text": [
      "PEG4mer_1111.gro:\n",
      "0\n",
      "1\n",
      "2\n",
      "3\n",
      "PEG7mer_1111111.gro:\n",
      "4\n",
      "PEG10mer_1111011111.gro:\n",
      "5\n",
      "PEG14mer_11111111101111.gro:\n",
      "6\n",
      "PEG19mer_1110111111011111111.gro:\n",
      "7\n",
      "PEG27mer_111111110111111111111110111.gro:\n",
      "8\n",
      "PEG30mer_111110111111111011111111111111.gro:\n",
      "9\n"
     ]
    }
   ],
   "source": [
    "print_iterative_items(gro_count_dict)"
   ]
  },
  {
   "cell_type": "code",
   "execution_count": null,
   "metadata": {},
   "outputs": [],
   "source": []
  }
 ],
 "metadata": {
  "kernelspec": {
   "display_name": "base",
   "language": "python",
   "name": "python3"
  },
  "language_info": {
   "codemirror_mode": {
    "name": "ipython",
    "version": 3
   },
   "file_extension": ".py",
   "mimetype": "text/x-python",
   "name": "python",
   "nbconvert_exporter": "python",
   "pygments_lexer": "ipython3",
   "version": "3.8.8"
  }
 },
 "nbformat": 4,
 "nbformat_minor": 2
}
